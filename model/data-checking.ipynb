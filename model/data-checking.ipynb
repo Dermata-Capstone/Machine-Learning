{
 "cells": [
  {
   "cell_type": "code",
   "execution_count": null,
   "metadata": {},
   "outputs": [],
   "source": [
    "import numpy as np\n",
    "import tensorflow as tf\n",
    "import shutil\n",
    "import os\n",
    "import pandas as pd"
   ]
  },
  {
   "cell_type": "code",
   "execution_count": null,
   "metadata": {},
   "outputs": [],
   "source": [
    "Training_Dir = 'train'"
   ]
  },
  {
   "cell_type": "code",
   "execution_count": 5,
   "metadata": {},
   "outputs": [],
   "source": [
    "def count_labels(data_dir):\n",
    "    classes_path = os.path.join(data_dir, '_classes.csv')\n",
    "    df = pd.read_csv(classes_path)\n",
    "    label_counts = df.iloc[:, 1:].sum(axis=0)\n",
    "\n",
    "    return label_counts"
   ]
  },
  {
   "cell_type": "code",
   "execution_count": 6,
   "metadata": {},
   "outputs": [
    {
     "name": "stdout",
     "output_type": "stream",
     "text": [
      "Jumlah gambar untuk masing-masing label di training set:\n",
      "Acne            2105\n",
      "Blackheads        72\n",
      "Dark Spots       190\n",
      "Dry Skin         326\n",
      "Eye bags         156\n",
      "Normal Skin      178\n",
      "Oily Skin        180\n",
      "Pores            197\n",
      "Skin Redness      33\n",
      "Wrinkles         297\n",
      "dtype: int64\n"
     ]
    }
   ],
   "source": [
    "# Menghitung dan menampilkan jumlah gambar untuk masing-masing label\n",
    "train_label_counts = count_labels(Training_Dir)\n",
    "\n",
    "print(\"Jumlah gambar untuk masing-masing label di training set:\")\n",
    "print(train_label_counts)"
   ]
  },
  {
   "cell_type": "code",
   "execution_count": null,
   "metadata": {},
   "outputs": [],
   "source": [
    "def add_new_images_to_training(new_images_dir, training_dir, csv_path):\n",
    "    # Try to read the existing CSV file\n",
    "    try:\n",
    "        df = pd.read_csv(csv_path)\n",
    "    except PermissionError:\n",
    "        print(f\"Permission denied: {csv_path}. Make sure the file is not open in another application and you have sufficient permissions.\")\n",
    "        return\n",
    "\n",
    "    # Strip whitespace from column names\n",
    "    df.columns = df.columns.str.strip()\n",
    "\n",
    "    # List of valid labels\n",
    "    valid_labels = ['Acne', 'Blackheads', 'Dark Spots', 'Dry Skin', 'Eye bags', \n",
    "                    'Normal Skin', 'Oily Skin', 'Pores', 'Skin Redness', 'Wrinkles']\n",
    "\n",
    "    # List to store new entries\n",
    "    new_entries = []\n",
    "\n",
    "    # Loop through each label directory\n",
    "    for label in valid_labels:\n",
    "        label_dir = os.path.join(new_images_dir, label)\n",
    "\n",
    "        # Check if it's a directory and contains images\n",
    "        if os.path.isdir(label_dir):\n",
    "            for image_name in os.listdir(label_dir):\n",
    "                image_path = os.path.join(label_dir, image_name)\n",
    "\n",
    "                # Check if the image already exists in the training folder\n",
    "                if os.path.isfile(image_path) and image_name not in df['filename'].values:\n",
    "                    # Define the new path in the training folder\n",
    "                    new_image_path = os.path.join(training_dir, image_name)\n",
    "\n",
    "                    # Copy the image to the training folder\n",
    "                    shutil.copy(image_path, new_image_path)\n",
    "\n",
    "                    # Create a new entry for the CSV\n",
    "                    new_entry = {'filename': image_name}\n",
    "                    # Set the label for the current image\n",
    "                    for col in valid_labels:\n",
    "                        new_entry[col] = 1 if col == label else 0  # Set label\n",
    "\n",
    "                    # Add the new entry to the list\n",
    "                    new_entries.append(new_entry)\n",
    "\n",
    "    # If there are new entries, combine them with the existing DataFrame\n",
    "    if new_entries:\n",
    "        new_df = pd.DataFrame(new_entries)\n",
    "        \n",
    "        # Ensure the columns in new_df match those in df\n",
    "        new_df = new_df[df.columns]  # Reorder columns to match df\n",
    "        \n",
    "        # Combine the DataFrames\n",
    "        df = pd.concat([df, new_df], ignore_index=True)\n",
    "\n",
    "    # Try to save the updated DataFrame back to the CSV file\n",
    "    try:\n",
    "        df.to_csv(csv_path, index=False)\n",
    "        print(\"New images have been added and the CSV has been updated.\")\n",
    "    except PermissionError:\n",
    "        print(f\"Permission denied: {csv_path}. Make sure the file is not open in another application and you have sufficient permissions.\")"
   ]
  },
  {
   "cell_type": "code",
   "execution_count": 8,
   "metadata": {},
   "outputs": [
    {
     "name": "stdout",
     "output_type": "stream",
     "text": [
      "New images have been added and the CSV has been updated.\n"
     ]
    }
   ],
   "source": [
    "new_images_directory = 'New dataset'  # Ganti dengan path ke folder gambar baru\n",
    "training_directory = 'train'  # Folder training\n",
    "csv_file_path = os.path.join(training_directory, '_classes.csv')  # Path ke file CSV\n",
    "\n",
    "add_new_images_to_training(new_images_directory, training_directory, csv_file_path)"
   ]
  },
  {
   "cell_type": "code",
   "execution_count": 9,
   "metadata": {},
   "outputs": [
    {
     "name": "stdout",
     "output_type": "stream",
     "text": [
      "Jumlah gambar untuk masing-masing label di training set:\n",
      "Acne            2105\n",
      "Blackheads        72\n",
      "Dark Spots       404\n",
      "Dry Skin         351\n",
      "Eye bags         194\n",
      "Normal Skin      341\n",
      "Oily Skin        326\n",
      "Pores            197\n",
      "Skin Redness     601\n",
      "Wrinkles         537\n",
      "dtype: int64\n"
     ]
    }
   ],
   "source": [
    "update_train_label_counts = count_labels(Training_Dir)\n",
    "\n",
    "print(\"Jumlah gambar untuk masing-masing label di training set:\")\n",
    "print(update_train_label_counts)"
   ]
  }
 ],
 "metadata": {
  "kernelspec": {
   "display_name": ".venv",
   "language": "python",
   "name": "python3"
  },
  "language_info": {
   "codemirror_mode": {
    "name": "ipython",
    "version": 3
   },
   "file_extension": ".py",
   "mimetype": "text/x-python",
   "name": "python",
   "nbconvert_exporter": "python",
   "pygments_lexer": "ipython3",
   "version": "3.12.6"
  }
 },
 "nbformat": 4,
 "nbformat_minor": 2
}
