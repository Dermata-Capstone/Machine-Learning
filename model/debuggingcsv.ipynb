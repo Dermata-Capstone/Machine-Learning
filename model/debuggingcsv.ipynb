{
 "cells": [
  {
   "cell_type": "code",
   "execution_count": 1,
   "metadata": {},
   "outputs": [],
   "source": [
    "import pandas as pd\n",
    "import os\n"
   ]
  },
  {
   "cell_type": "code",
   "execution_count": 2,
   "metadata": {},
   "outputs": [],
   "source": [
    "def check_csv_images(csv_path, data_dir):\n",
    "    \"\"\"\n",
    "    Validate that all image paths in the CSV file exist.\n",
    "    \"\"\"\n",
    "    df = pd.read_csv(csv_path)\n",
    "    invalid_files = []\n",
    "\n",
    "    for file in df['filename']:\n",
    "        full_path = os.path.join(data_dir, file)\n",
    "        if not os.path.isfile(full_path):\n",
    "            print(f\"File not found: {full_path}\")\n",
    "            invalid_files.append(file)\n",
    "\n",
    "    if invalid_files:\n",
    "        print(f\"Invalid files in CSV: {invalid_files}\")\n",
    "    else:\n",
    "        print(\"All files in CSV are valid!\")\n"
   ]
  },
  {
   "cell_type": "code",
   "execution_count": 3,
   "metadata": {},
   "outputs": [
    {
     "name": "stdout",
     "output_type": "stream",
     "text": [
      "All files in CSV are valid!\n"
     ]
    }
   ],
   "source": [
    "# Check your CSV file\n",
    "check_csv_images('_classes.csv', 'train')"
   ]
  },
  {
   "cell_type": "code",
   "execution_count": null,
   "metadata": {},
   "outputs": [],
   "source": []
  }
 ],
 "metadata": {
  "kernelspec": {
   "display_name": ".venv",
   "language": "python",
   "name": "python3"
  },
  "language_info": {
   "codemirror_mode": {
    "name": "ipython",
    "version": 3
   },
   "file_extension": ".py",
   "mimetype": "text/x-python",
   "name": "python",
   "nbconvert_exporter": "python",
   "pygments_lexer": "ipython3",
   "version": "3.12.6"
  }
 },
 "nbformat": 4,
 "nbformat_minor": 2
}
