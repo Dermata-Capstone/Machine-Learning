{
 "cells": [
  {
   "cell_type": "code",
   "execution_count": 1,
   "metadata": {},
   "outputs": [],
   "source": [
    "import os\n",
    "from PIL import Image"
   ]
  },
  {
   "cell_type": "code",
   "execution_count": 2,
   "metadata": {},
   "outputs": [],
   "source": [
    "def validate_and_clean_dataset(directory):\n",
    "    \"\"\"\n",
    "    Check and remove non-image or corrupted files from the dataset directory.\n",
    "    \"\"\"\n",
    "    for root, _, files in os.walk(directory):\n",
    "        for file in files:\n",
    "            file_path = os.path.join(root, file)\n",
    "            try:\n",
    "                with Image.open(file_path) as img:\n",
    "                    img.verify()  # Verify if the file is a valid image\n",
    "            except (IOError, SyntaxError) as e:\n",
    "                print(f\"Removing invalid file: {file_path} (Error: {e})\")\n",
    "                os.remove(file_path)  # Remove corrupted or invalid files\n",
    "\n"
   ]
  },
  {
   "cell_type": "code",
   "execution_count": 3,
   "metadata": {},
   "outputs": [
    {
     "name": "stdout",
     "output_type": "stream",
     "text": [
      "Removing invalid file: train\\_classes.csv (Error: cannot identify image file 'D:\\\\CAPSTONE\\\\train\\\\_classes.csv')\n",
      "Removing invalid file: valid\\_classes.csv (Error: cannot identify image file 'D:\\\\CAPSTONE\\\\valid\\\\_classes.csv')\n",
      "Removing invalid file: test\\_classes.csv (Error: cannot identify image file 'D:\\\\CAPSTONE\\\\test\\\\_classes.csv')\n",
      "Dataset cleaned and ready for use.\n"
     ]
    }
   ],
   "source": [
    "# Validate all directories\n",
    "validate_and_clean_dataset(\"train\")\n",
    "validate_and_clean_dataset(\"valid\")\n",
    "validate_and_clean_dataset(\"test\")\n",
    "print(\"Dataset cleaned and ready for use.\")"
   ]
  },
  {
   "cell_type": "code",
   "execution_count": null,
   "metadata": {},
   "outputs": [],
   "source": []
  }
 ],
 "metadata": {
  "kernelspec": {
   "display_name": ".venv",
   "language": "python",
   "name": "python3"
  },
  "language_info": {
   "codemirror_mode": {
    "name": "ipython",
    "version": 3
   },
   "file_extension": ".py",
   "mimetype": "text/x-python",
   "name": "python",
   "nbconvert_exporter": "python",
   "pygments_lexer": "ipython3",
   "version": "3.12.6"
  }
 },
 "nbformat": 4,
 "nbformat_minor": 2
}
